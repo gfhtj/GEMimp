{
 "cells": [
  {
   "cell_type": "code",
   "execution_count": 1,
   "id": "fbf3f6eb",
   "metadata": {},
   "outputs": [],
   "source": [
    "#change directory to src\n",
    "\n",
    "from MBIMP import Impute\n",
    "\n",
    "import pandas as pd"
   ]
  },
  {
   "cell_type": "code",
   "execution_count": 2,
   "id": "440132ea",
   "metadata": {},
   "outputs": [],
   "source": [
    "#Step1 load the raw count matrix of microbiome data, where rows are samples and columns are taxa.\n",
    "\n",
    "test_rawfile=pd.read_csv(\"D:/paper/simulated_data/simudata.csv\",index_col=0)"
   ]
  },
  {
   "cell_type": "code",
   "execution_count": 4,
   "id": "8f61b840",
   "metadata": {},
   "outputs": [],
   "source": [
    "#Step2 build adjacent matrix for microbiome data.\n",
    "graph_adj_test=Impute.GraphBuild(input_file=test_rawfile,k=5)"
   ]
  },
  {
   "cell_type": "code",
   "execution_count": 10,
   "id": "1c229ee3",
   "metadata": {},
   "outputs": [
    {
     "data": {
      "application/vnd.jupyter.widget-view+json": {
       "model_id": "cb70707ad9b243eea890417dc3064344",
       "version_major": 2,
       "version_minor": 0
      },
      "text/plain": [
       "Computing transition probabilities:   0%|          | 0/100 [00:00<?, ?it/s]"
      ]
     },
     "metadata": {},
     "output_type": "display_data"
    },
    {
     "name": "stderr",
     "output_type": "stream",
     "text": [
      "Generating walks (CPU: 1): 100%|██████████████████████████████████████████████████████| 20/20 [00:00<00:00, 429.71it/s]\n"
     ]
    }
   ],
   "source": [
    "#Step3 learn cell embeddings.\n",
    "\n",
    "cell_emb_test=Impute.trainCellEmbeddings(graph_adj_test)"
   ]
  },
  {
   "cell_type": "code",
   "execution_count": 12,
   "id": "41e79259",
   "metadata": {},
   "outputs": [],
   "source": [
    "#Step4 microbiome data imputation, the format of output file is samples x taxa count matrix.\n",
    "data_imp[data_imp == 0] = np.log10(1.01)\n",
    "data_imp_test=Impute.imputation(mbfile=test_rawfile,embeddingfile=cell_emb_test,AdjGraph=graph_adj_test)"
   ]
  },
  {
   "cell_type": "code",
   "execution_count": null,
   "id": "da2208d5",
   "metadata": {},
   "outputs": [],
   "source": []
  }
 ],
 "metadata": {
  "kernelspec": {
   "display_name": "Python 3 (ipykernel)",
   "language": "python",
   "name": "python3"
  },
  "language_info": {
   "codemirror_mode": {
    "name": "ipython",
    "version": 3
   },
   "file_extension": ".py",
   "mimetype": "text/x-python",
   "name": "python",
   "nbconvert_exporter": "python",
   "pygments_lexer": "ipython3",
   "version": "3.11.5"
  }
 },
 "nbformat": 4,
 "nbformat_minor": 5
}
