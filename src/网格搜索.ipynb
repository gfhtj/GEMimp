{
 "cells": [
  {
   "cell_type": "code",
   "execution_count": 1,
   "id": "85ac921c",
   "metadata": {},
   "outputs": [],
   "source": [
    "#change directory to src\n",
    "\n",
    "from MBIMP import Impute\n",
    "\n",
    "import pandas as pd"
   ]
  },
  {
   "cell_type": "code",
   "execution_count": 2,
   "id": "d81e7573",
   "metadata": {},
   "outputs": [],
   "source": [
    "#Step1 load the raw count matrix of microbiome data, where rows are samples and columns are taxa.\n",
    "\n",
    "test_rawfile=pd.read_csv(\"D:/paper/simulated_data/simudata.csv\",index_col=0)"
   ]
  },
  {
   "cell_type": "code",
   "execution_count": 3,
   "id": "61d9bc68",
   "metadata": {},
   "outputs": [],
   "source": [
    "#Step2 build adjacent matrix for microbiome data.\n",
    "graph_adj_test=Impute.GraphBuild(input_file=test_rawfile,k=5)"
   ]
  },
  {
   "cell_type": "code",
   "execution_count": 4,
   "id": "6ab0c52b",
   "metadata": {},
   "outputs": [],
   "source": [
    "#训练p,q的参数\n",
    "# 定义参数网格\n",
    "param_grid = {\n",
    "    'p': [0.25, 0.5, 1, 2, 4],\n",
    "    'q': [0.25, 0.5, 1, 2, 4]\n",
    "}\n"
   ]
  },
  {
   "cell_type": "code",
   "execution_count": null,
   "id": "162eeb38",
   "metadata": {},
   "outputs": [],
   "source": [
    "def trainCellEmbeddings(Graph,Seed=0,Workers=1):\n",
    "    G = nx.from_pandas_adjacency(Graph)\n",
    "    Cell_node2vec = Node2Vec(G,dimensions=128,p=p,q=q, walk_length=5, num_walks=20, workers=Workers,seed=Seed)\n",
    "    tmodel=Cell_node2vec.fit(window=3, epochs=3)\n",
    "    emb=Cell_node2vec.get_embeddings(tmodel)\n",
    "    return emb"
   ]
  }
 ],
 "metadata": {
  "kernelspec": {
   "display_name": "Python 3 (ipykernel)",
   "language": "python",
   "name": "python3"
  },
  "language_info": {
   "codemirror_mode": {
    "name": "ipython",
    "version": 3
   },
   "file_extension": ".py",
   "mimetype": "text/x-python",
   "name": "python",
   "nbconvert_exporter": "python",
   "pygments_lexer": "ipython3",
   "version": "3.11.5"
  }
 },
 "nbformat": 4,
 "nbformat_minor": 5
}
